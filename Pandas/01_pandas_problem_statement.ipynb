{
  "nbformat": 4,
  "nbformat_minor": 0,
  "metadata": {
    "colab": {
      "name": "pandas-1.ipynb",
      "provenance": [],
      "authorship_tag": "ABX9TyP988Ttlmbms19fCdV4Cjwv",
      "include_colab_link": true
    },
    "kernelspec": {
      "name": "python3",
      "display_name": "Python 3"
    },
    "language_info": {
      "name": "python"
    }
  },
  "cells": [
    {
      "cell_type": "markdown",
      "metadata": {
        "id": "view-in-github",
        "colab_type": "text"
      },
      "source": [
        "<a href=\"https://colab.research.google.com/github/peeush-the-developer/interview-questions/blob/main/Pandas/pandas_problem_statement_01.ipynb\" target=\"_parent\"><img src=\"https://colab.research.google.com/assets/colab-badge.svg\" alt=\"Open In Colab\"/></a>"
      ]
    },
    {
      "cell_type": "markdown",
      "metadata": {
        "id": "wvSOCHQUbPlL"
      },
      "source": [
        "# 1. Problem statement\n",
        "\n",
        "Suppose you're given \"Input column\" as Age and we want to transform into specified \"Output column\"\n",
        "\n",
        "![Problem](data:image/png;base64,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)"
      ]
    },
    {
      "cell_type": "markdown",
      "metadata": {
        "id": "u3zYwMCCbeJP"
      },
      "source": [
        "## 1. Solution attempt"
      ]
    },
    {
      "cell_type": "code",
      "metadata": {
        "id": "OcxX7uOCaUcn"
      },
      "source": [
        "import pandas as pd"
      ],
      "execution_count": null,
      "outputs": []
    },
    {
      "cell_type": "code",
      "metadata": {
        "colab": {
          "base_uri": "https://localhost:8080/"
        },
        "id": "QZGJpmEkZ33H",
        "outputId": "43e9570e-c089-4e55-88e5-a642b56907f4"
      },
      "source": [
        "dic = {'Age':['1 Year', '5 Yr', '7 Years', '9', '9', '8 Yrs']}\n",
        "dic"
      ],
      "execution_count": null,
      "outputs": [
        {
          "output_type": "execute_result",
          "data": {
            "text/plain": [
              "{'Age': ['1 Year', '5 Yr', '7 Years', '9', '9', '8 Yrs']}"
            ]
          },
          "metadata": {
            "tags": []
          },
          "execution_count": 1
        }
      ]
    },
    {
      "cell_type": "code",
      "metadata": {
        "colab": {
          "base_uri": "https://localhost:8080/",
          "height": 238
        },
        "id": "jESzOt4ZaLRu",
        "outputId": "d8a707e4-ee58-48c1-ca6b-56a2ce73dd3e"
      },
      "source": [
        "df = pd.DataFrame(dic)\n",
        "df"
      ],
      "execution_count": null,
      "outputs": [
        {
          "output_type": "execute_result",
          "data": {
            "text/html": [
              "<div>\n",
              "<style scoped>\n",
              "    .dataframe tbody tr th:only-of-type {\n",
              "        vertical-align: middle;\n",
              "    }\n",
              "\n",
              "    .dataframe tbody tr th {\n",
              "        vertical-align: top;\n",
              "    }\n",
              "\n",
              "    .dataframe thead th {\n",
              "        text-align: right;\n",
              "    }\n",
              "</style>\n",
              "<table border=\"1\" class=\"dataframe\">\n",
              "  <thead>\n",
              "    <tr style=\"text-align: right;\">\n",
              "      <th></th>\n",
              "      <th>Age</th>\n",
              "    </tr>\n",
              "  </thead>\n",
              "  <tbody>\n",
              "    <tr>\n",
              "      <th>0</th>\n",
              "      <td>1 Year</td>\n",
              "    </tr>\n",
              "    <tr>\n",
              "      <th>1</th>\n",
              "      <td>5 Yr</td>\n",
              "    </tr>\n",
              "    <tr>\n",
              "      <th>2</th>\n",
              "      <td>7 Years</td>\n",
              "    </tr>\n",
              "    <tr>\n",
              "      <th>3</th>\n",
              "      <td>9</td>\n",
              "    </tr>\n",
              "    <tr>\n",
              "      <th>4</th>\n",
              "      <td>9</td>\n",
              "    </tr>\n",
              "    <tr>\n",
              "      <th>5</th>\n",
              "      <td>8 Yrs</td>\n",
              "    </tr>\n",
              "  </tbody>\n",
              "</table>\n",
              "</div>"
            ],
            "text/plain": [
              "       Age\n",
              "0   1 Year\n",
              "1     5 Yr\n",
              "2  7 Years\n",
              "3        9\n",
              "4        9\n",
              "5    8 Yrs"
            ]
          },
          "metadata": {
            "tags": []
          },
          "execution_count": 4
        }
      ]
    },
    {
      "cell_type": "code",
      "metadata": {
        "id": "lkP9sgaSaSnr"
      },
      "source": [
        "df['Age'] = df['Age'].str.split().str[0] + ' Year'"
      ],
      "execution_count": null,
      "outputs": []
    },
    {
      "cell_type": "code",
      "metadata": {
        "colab": {
          "base_uri": "https://localhost:8080/",
          "height": 238
        },
        "id": "D80Lr3IMahXO",
        "outputId": "e7a67542-cc2b-427b-a98c-b7abef7df05c"
      },
      "source": [
        "df"
      ],
      "execution_count": null,
      "outputs": [
        {
          "output_type": "execute_result",
          "data": {
            "text/html": [
              "<div>\n",
              "<style scoped>\n",
              "    .dataframe tbody tr th:only-of-type {\n",
              "        vertical-align: middle;\n",
              "    }\n",
              "\n",
              "    .dataframe tbody tr th {\n",
              "        vertical-align: top;\n",
              "    }\n",
              "\n",
              "    .dataframe thead th {\n",
              "        text-align: right;\n",
              "    }\n",
              "</style>\n",
              "<table border=\"1\" class=\"dataframe\">\n",
              "  <thead>\n",
              "    <tr style=\"text-align: right;\">\n",
              "      <th></th>\n",
              "      <th>Age</th>\n",
              "    </tr>\n",
              "  </thead>\n",
              "  <tbody>\n",
              "    <tr>\n",
              "      <th>0</th>\n",
              "      <td>1 Year</td>\n",
              "    </tr>\n",
              "    <tr>\n",
              "      <th>1</th>\n",
              "      <td>5 Year</td>\n",
              "    </tr>\n",
              "    <tr>\n",
              "      <th>2</th>\n",
              "      <td>7 Year</td>\n",
              "    </tr>\n",
              "    <tr>\n",
              "      <th>3</th>\n",
              "      <td>9 Year</td>\n",
              "    </tr>\n",
              "    <tr>\n",
              "      <th>4</th>\n",
              "      <td>9 Year</td>\n",
              "    </tr>\n",
              "    <tr>\n",
              "      <th>5</th>\n",
              "      <td>8 Year</td>\n",
              "    </tr>\n",
              "  </tbody>\n",
              "</table>\n",
              "</div>"
            ],
            "text/plain": [
              "      Age\n",
              "0  1 Year\n",
              "1  5 Year\n",
              "2  7 Year\n",
              "3  9 Year\n",
              "4  9 Year\n",
              "5  8 Year"
            ]
          },
          "metadata": {
            "tags": []
          },
          "execution_count": 11
        }
      ]
    },
    {
      "cell_type": "code",
      "metadata": {
        "id": "-wlSR3o_bGBS"
      },
      "source": [
        ""
      ],
      "execution_count": null,
      "outputs": []
    }
  ]
}