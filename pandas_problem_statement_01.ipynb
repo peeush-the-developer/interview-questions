{
  "nbformat": 4,
  "nbformat_minor": 0,
  "metadata": {
    "colab": {
      "name": "pandas-1.ipynb",
      "provenance": [],
      "authorship_tag": "ABX9TyP6sS/YrR4xClfaQEubukuC",
      "include_colab_link": true
    },
    "kernelspec": {
      "name": "python3",
      "display_name": "Python 3"
    },
    "language_info": {
      "name": "python"
    }
  },
  "cells": [
    {
      "cell_type": "markdown",
      "metadata": {
        "id": "view-in-github",
        "colab_type": "text"
      },
      "source": [
        "<a href=\"https://colab.research.google.com/github/peeush-the-developer/interview-questions/blob/main/pandas_problem_statement_01.ipynb\" target=\"_parent\"><img src=\"https://colab.research.google.com/assets/colab-badge.svg\" alt=\"Open In Colab\"/></a>"
      ]
    },
    {
      "cell_type": "markdown",
      "metadata": {
        "id": "wvSOCHQUbPlL"
      },
      "source": [
        "# 1. Problem statement\n",
        "\n",
        "Suppose you're given \"Input column\" as Age and we want to transform into specified \"Output column\"\n",
        "\n",
        "![Problem](https://gm1.ggpht.com/J-wf1M0DPJKUkQonFltstNSPuilFmATRplnz65QryJq-wIeXOMnZgyx5rZZ6BBwIljaCp_52fN-Y8AyU_5CLyWS08roBL4shwn7bZEyb0A2Lb2PmHviZHaoq-tOMEU2a8afk43Z7rSAni59vzvNdrp-EBObJCezI41lXe-wbpG-Tj4MhiVn_iFXWAw9HmISt7pKwb9wBjc3CYl5cX-Cn40q8EEEagSArKV_lvK1JEM1SgJpGL2DWKhk_JuU4gUwq_3xbWRdyLNbas_rSEnEnjsmyTckmmWWjVb6ek97kUlxpILM0tdo-cdzNUFJ88jjglp9Le7Onbk5hUTvZHmbs6ck-xOtnm7hqep_Pz0R9M6xgVuPCUjz_X2obDVt4tIe7a34fykIIs9hzhkTDzrKKQSzCSDd9R7DBuKn-boKvVrZ6bqniUvaYgdLUzuEH-9zQXPZnRNbTyYU1tmVDzWvCyyi2jc2lTwjv_Bxf_To-lTxDTuWZ--YNKqoio3efW1KRAH4IZbNs1QvQ7XbA-jhXdxcLXTZVSfcn0aLvE1hmQrxKcrMvQNxmEvmb3gh_32nQnSuL0OU7O9x9e9-3blF_PbCGmvEti3-4e2JJZazppVJQEp5-cEGyyNUJbWc0s-RBds5psCKXjK7ebgmX7Dl6WXed-Q701Gs4QAfpdDYyuMo90ItXZlGV4MBcpTS3AbvFUVj8JCBtywylGgfXpegoIOMLBgN7g_FfNGfHbp5LKFBxDCPZwhUm1E3fOu-hLZHDUiIx=s0-l75-ft-l75-ft)"
      ]
    },
    {
      "cell_type": "markdown",
      "metadata": {
        "id": "u3zYwMCCbeJP"
      },
      "source": [
        "## 1. Solution attempt"
      ]
    },
    {
      "cell_type": "code",
      "metadata": {
        "id": "OcxX7uOCaUcn"
      },
      "source": [
        "import pandas as pd"
      ],
      "execution_count": 3,
      "outputs": []
    },
    {
      "cell_type": "code",
      "metadata": {
        "colab": {
          "base_uri": "https://localhost:8080/"
        },
        "id": "QZGJpmEkZ33H",
        "outputId": "43e9570e-c089-4e55-88e5-a642b56907f4"
      },
      "source": [
        "dic = {'Age':['1 Year', '5 Yr', '7 Years', '9', '9', '8 Yrs']}\n",
        "dic"
      ],
      "execution_count": 1,
      "outputs": [
        {
          "output_type": "execute_result",
          "data": {
            "text/plain": [
              "{'Age': ['1 Year', '5 Yr', '7 Years', '9', '9', '8 Yrs']}"
            ]
          },
          "metadata": {
            "tags": []
          },
          "execution_count": 1
        }
      ]
    },
    {
      "cell_type": "code",
      "metadata": {
        "colab": {
          "base_uri": "https://localhost:8080/",
          "height": 238
        },
        "id": "jESzOt4ZaLRu",
        "outputId": "d8a707e4-ee58-48c1-ca6b-56a2ce73dd3e"
      },
      "source": [
        "df = pd.DataFrame(dic)\n",
        "df"
      ],
      "execution_count": 4,
      "outputs": [
        {
          "output_type": "execute_result",
          "data": {
            "text/html": [
              "<div>\n",
              "<style scoped>\n",
              "    .dataframe tbody tr th:only-of-type {\n",
              "        vertical-align: middle;\n",
              "    }\n",
              "\n",
              "    .dataframe tbody tr th {\n",
              "        vertical-align: top;\n",
              "    }\n",
              "\n",
              "    .dataframe thead th {\n",
              "        text-align: right;\n",
              "    }\n",
              "</style>\n",
              "<table border=\"1\" class=\"dataframe\">\n",
              "  <thead>\n",
              "    <tr style=\"text-align: right;\">\n",
              "      <th></th>\n",
              "      <th>Age</th>\n",
              "    </tr>\n",
              "  </thead>\n",
              "  <tbody>\n",
              "    <tr>\n",
              "      <th>0</th>\n",
              "      <td>1 Year</td>\n",
              "    </tr>\n",
              "    <tr>\n",
              "      <th>1</th>\n",
              "      <td>5 Yr</td>\n",
              "    </tr>\n",
              "    <tr>\n",
              "      <th>2</th>\n",
              "      <td>7 Years</td>\n",
              "    </tr>\n",
              "    <tr>\n",
              "      <th>3</th>\n",
              "      <td>9</td>\n",
              "    </tr>\n",
              "    <tr>\n",
              "      <th>4</th>\n",
              "      <td>9</td>\n",
              "    </tr>\n",
              "    <tr>\n",
              "      <th>5</th>\n",
              "      <td>8 Yrs</td>\n",
              "    </tr>\n",
              "  </tbody>\n",
              "</table>\n",
              "</div>"
            ],
            "text/plain": [
              "       Age\n",
              "0   1 Year\n",
              "1     5 Yr\n",
              "2  7 Years\n",
              "3        9\n",
              "4        9\n",
              "5    8 Yrs"
            ]
          },
          "metadata": {
            "tags": []
          },
          "execution_count": 4
        }
      ]
    },
    {
      "cell_type": "code",
      "metadata": {
        "id": "lkP9sgaSaSnr"
      },
      "source": [
        "df['Age'] = df['Age'].str.split().str[0] + ' Year'"
      ],
      "execution_count": 10,
      "outputs": []
    },
    {
      "cell_type": "code",
      "metadata": {
        "colab": {
          "base_uri": "https://localhost:8080/",
          "height": 238
        },
        "id": "D80Lr3IMahXO",
        "outputId": "e7a67542-cc2b-427b-a98c-b7abef7df05c"
      },
      "source": [
        "df"
      ],
      "execution_count": 11,
      "outputs": [
        {
          "output_type": "execute_result",
          "data": {
            "text/html": [
              "<div>\n",
              "<style scoped>\n",
              "    .dataframe tbody tr th:only-of-type {\n",
              "        vertical-align: middle;\n",
              "    }\n",
              "\n",
              "    .dataframe tbody tr th {\n",
              "        vertical-align: top;\n",
              "    }\n",
              "\n",
              "    .dataframe thead th {\n",
              "        text-align: right;\n",
              "    }\n",
              "</style>\n",
              "<table border=\"1\" class=\"dataframe\">\n",
              "  <thead>\n",
              "    <tr style=\"text-align: right;\">\n",
              "      <th></th>\n",
              "      <th>Age</th>\n",
              "    </tr>\n",
              "  </thead>\n",
              "  <tbody>\n",
              "    <tr>\n",
              "      <th>0</th>\n",
              "      <td>1 Year</td>\n",
              "    </tr>\n",
              "    <tr>\n",
              "      <th>1</th>\n",
              "      <td>5 Year</td>\n",
              "    </tr>\n",
              "    <tr>\n",
              "      <th>2</th>\n",
              "      <td>7 Year</td>\n",
              "    </tr>\n",
              "    <tr>\n",
              "      <th>3</th>\n",
              "      <td>9 Year</td>\n",
              "    </tr>\n",
              "    <tr>\n",
              "      <th>4</th>\n",
              "      <td>9 Year</td>\n",
              "    </tr>\n",
              "    <tr>\n",
              "      <th>5</th>\n",
              "      <td>8 Year</td>\n",
              "    </tr>\n",
              "  </tbody>\n",
              "</table>\n",
              "</div>"
            ],
            "text/plain": [
              "      Age\n",
              "0  1 Year\n",
              "1  5 Year\n",
              "2  7 Year\n",
              "3  9 Year\n",
              "4  9 Year\n",
              "5  8 Year"
            ]
          },
          "metadata": {
            "tags": []
          },
          "execution_count": 11
        }
      ]
    },
    {
      "cell_type": "code",
      "metadata": {
        "id": "-wlSR3o_bGBS"
      },
      "source": [
        ""
      ],
      "execution_count": null,
      "outputs": []
    }
  ]
}