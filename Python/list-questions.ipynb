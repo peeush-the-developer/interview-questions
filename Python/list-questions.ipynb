{
 "cells": [
  {
   "cell_type": "markdown",
   "id": "57a8ecde",
   "metadata": {},
   "source": [
    "# Questions"
   ]
  },
  {
   "cell_type": "markdown",
   "id": "884857b7",
   "metadata": {},
   "source": [
    "![Image divider](https://picsum.photos/id/0/600/200)"
   ]
  },
  {
   "cell_type": "markdown",
   "id": "7b445a33",
   "metadata": {},
   "source": [
    "## Questions 1 - 10"
   ]
  },
  {
   "cell_type": "markdown",
   "id": "ba39ac74",
   "metadata": {},
   "source": [
    "### 1. Check if a list contains an element"
   ]
  },
  {
   "cell_type": "code",
   "execution_count": 1,
   "id": "a16f4ae4",
   "metadata": {},
   "outputs": [],
   "source": [
    "li = [1, 2, 3, 'a', 'b', 'c']\n",
    "\n",
    "# Find if 'a' is in l1"
   ]
  },
  {
   "cell_type": "markdown",
   "id": "7e7dc66b",
   "metadata": {},
   "source": [
    "### 2. How to iterate over 2+ lists at the same time\n",
    "\n",
    "+ Input: Given 3 lists\n",
    "+ Output: \n",
    "  + Snowball the Cat is 1\n",
    "  + Chewy the Dog is 2\n",
    "  + ..."
   ]
  },
  {
   "cell_type": "code",
   "execution_count": 2,
   "id": "f88d20a2",
   "metadata": {},
   "outputs": [],
   "source": [
    "name = ['Snowball', 'Chewy', 'Bubbles', 'Gruff']\n",
    "animal = ['Cat', 'Dog', 'Fish', 'Goat']\n",
    "age = [1, 2, 2, 6]"
   ]
  },
  {
   "cell_type": "markdown",
   "id": "93b76e9a",
   "metadata": {},
   "source": [
    "### 3. When you would use a list vs dictionary?"
   ]
  },
  {
   "cell_type": "markdown",
   "id": "c637553a",
   "metadata": {},
   "source": [
    "### 4. Is a list mutable?"
   ]
  },
  {
   "cell_type": "markdown",
   "id": "f1412fc8",
   "metadata": {},
   "source": [
    "### 5. Does a list need to be homogeneous?"
   ]
  },
  {
   "cell_type": "markdown",
   "id": "a58a4143",
   "metadata": {},
   "source": [
    "### 6. What is the difference between append and extend?"
   ]
  },
  {
   "cell_type": "markdown",
   "id": "87b28a1a",
   "metadata": {},
   "source": [
    "### 7. Do python list store values or pointers?"
   ]
  },
  {
   "cell_type": "markdown",
   "id": "c600d451",
   "metadata": {},
   "source": [
    "### 8. What does `del` do?"
   ]
  },
  {
   "cell_type": "markdown",
   "id": "a99b4b6d",
   "metadata": {},
   "source": [
    "### 9. What is the difference between `pop` and `remove`?"
   ]
  },
  {
   "cell_type": "markdown",
   "id": "5833f094",
   "metadata": {},
   "source": [
    "### 10. Remove duplicates from a list.\n",
    "\n",
    "_Note: Order is not a concern_"
   ]
  },
  {
   "cell_type": "code",
   "execution_count": 3,
   "id": "11664505",
   "metadata": {},
   "outputs": [],
   "source": [
    "li = [3, 2, 2, 1, 1, 1]\n",
    "\n",
    "# Output: [1, 2, 3]"
   ]
  },
  {
   "cell_type": "markdown",
   "id": "ed3173f7",
   "metadata": {},
   "source": [
    "![Image divider](https://picsum.photos/id/10/600/200)"
   ]
  },
  {
   "cell_type": "markdown",
   "id": "14746c0c",
   "metadata": {},
   "source": [
    "## Questions 11 - 20"
   ]
  },
  {
   "cell_type": "markdown",
   "id": "34705e85",
   "metadata": {},
   "source": [
    "### 11. Find the index of the 1st matching element."
   ]
  },
  {
   "cell_type": "code",
   "execution_count": 4,
   "id": "becba224",
   "metadata": {},
   "outputs": [],
   "source": [
    "fruit = ['pear', 'orange', 'apple', 'grapefruit', 'apple', 'pear']\n",
    "\n",
    "# Output: \n",
    "#   'apple' => 2\n",
    "#   'pear'  => 0"
   ]
  },
  {
   "cell_type": "markdown",
   "id": "3b954642",
   "metadata": {},
   "source": [
    "### 12. Remove all elements from a list."
   ]
  },
  {
   "cell_type": "code",
   "execution_count": 5,
   "id": "5dd23786",
   "metadata": {},
   "outputs": [],
   "source": [
    "fruit = ['pear', 'orange', 'apple']\n",
    "\n",
    "# Output: fruit = []"
   ]
  },
  {
   "cell_type": "markdown",
   "id": "3aedff55",
   "metadata": {},
   "source": [
    "### 13. Iterate over both the values in a list and their indices"
   ]
  },
  {
   "cell_type": "code",
   "execution_count": 6,
   "id": "eced4597",
   "metadata": {},
   "outputs": [],
   "source": [
    "grocery_list = ['flour','cheese','carrots']\n",
    "\n",
    "# Output:\n",
    "#   0: flour\n",
    "#   1: cheese\n",
    "#   2: carrots"
   ]
  },
  {
   "cell_type": "markdown",
   "id": "87a7a638",
   "metadata": {},
   "source": [
    "### 14. How to concatenate two lists"
   ]
  },
  {
   "cell_type": "code",
   "execution_count": 7,
   "id": "fbd9ca04",
   "metadata": {},
   "outputs": [],
   "source": [
    "one = ['a', 'b', 'c']\n",
    "two = [1, 2, 3]\n",
    "\n",
    "# Output: ['a', 'b', 'c', 1, 2, 3]"
   ]
  },
  {
   "cell_type": "markdown",
   "id": "6d76dbd9",
   "metadata": {},
   "source": [
    "### 15. How to manipulate every element in a list with list comprehension?\n",
    "\n",
    "Add 1 to each element"
   ]
  },
  {
   "cell_type": "code",
   "execution_count": 8,
   "id": "f5a1a2eb",
   "metadata": {},
   "outputs": [],
   "source": [
    "li = [0, 25, 50, 100]\n",
    "\n",
    "# Output: [1, 26, 51, 101]"
   ]
  },
  {
   "cell_type": "markdown",
   "id": "b8e52bc5",
   "metadata": {},
   "source": [
    "### 16. Count the occurrence of a specific object in a list"
   ]
  },
  {
   "cell_type": "code",
   "execution_count": 9,
   "id": "17044447",
   "metadata": {},
   "outputs": [],
   "source": [
    "pets = ['dog','cat','fish','fish','cat']\n",
    "\n",
    "# Output: 'fish' => 2"
   ]
  },
  {
   "cell_type": "markdown",
   "id": "07a5d8c9",
   "metadata": {},
   "source": [
    "### 17. How to shallow copy a list?"
   ]
  },
  {
   "cell_type": "code",
   "execution_count": 10,
   "id": "453a8e00",
   "metadata": {},
   "outputs": [],
   "source": [
    "round1 = ['chuck norris', 'bruce lee', 'sonny chiba']\n",
    "\n",
    "# Output: round2 with same items except 'sonny chiba'"
   ]
  },
  {
   "cell_type": "markdown",
   "id": "5794d317",
   "metadata": {},
   "source": [
    "### 18. Why create a shallow copy of a list?"
   ]
  },
  {
   "cell_type": "markdown",
   "id": "6d7666fa",
   "metadata": {},
   "source": [
    "### 19. How to deepcopy a list?"
   ]
  },
  {
   "cell_type": "code",
   "execution_count": 11,
   "id": "209a50f0",
   "metadata": {},
   "outputs": [],
   "source": [
    "round1 = [\n",
    "    ['Arnold', 'Sylvester', 'Jean Claude'],\n",
    "    ['Buttercup', 'Bubbles', 'Blossom']\n",
    "]\n",
    "\n",
    "# Output: \n",
    "# round2 = [\n",
    "#  ['Jet Lee', 'Sylvester', 'Jean Claude'], \n",
    "#  ['Buttercup', 'Bubbles', 'Blossom']\n",
    "# ]"
   ]
  },
  {
   "cell_type": "markdown",
   "id": "253b475a",
   "metadata": {},
   "source": [
    "### 20. What is the difference between a deep copy and a shallow copy?"
   ]
  },
  {
   "cell_type": "markdown",
   "id": "954f4cc3",
   "metadata": {},
   "source": [
    "![Image divider](https://picsum.photos/id/200/600/200)"
   ]
  },
  {
   "cell_type": "markdown",
   "id": "83e0cc5d",
   "metadata": {},
   "source": [
    "## Questions 21 - 30"
   ]
  },
  {
   "cell_type": "markdown",
   "id": "cc4c4c30",
   "metadata": {},
   "source": [
    "### 21. What is the difference between a list and a tuple?"
   ]
  },
  {
   "cell_type": "markdown",
   "id": "57b81959",
   "metadata": {},
   "source": [
    "### 22. Return the length of a list"
   ]
  },
  {
   "cell_type": "markdown",
   "id": "4491703a",
   "metadata": {},
   "source": [
    "### 23. What is the difference between a list and a set?"
   ]
  },
  {
   "cell_type": "markdown",
   "id": "f2778894",
   "metadata": {},
   "source": [
    "### 24. How to check if an element is not in a list?"
   ]
  },
  {
   "cell_type": "code",
   "execution_count": 12,
   "id": "c85a4fac",
   "metadata": {},
   "outputs": [],
   "source": [
    "li = [1, 2, 3, 4]\n",
    "\n",
    "# Output: li contains 5 => False"
   ]
  },
  {
   "cell_type": "markdown",
   "id": "94649555",
   "metadata": {},
   "source": [
    "### 25. Multiply every element in a list by 5 with the `map` function."
   ]
  },
  {
   "cell_type": "code",
   "execution_count": 13,
   "id": "500978d1",
   "metadata": {},
   "outputs": [],
   "source": [
    "a = [10,20,30,40,50]\n",
    "\n",
    "# Output: [50, 100, 150, 200, 250]"
   ]
  },
  {
   "cell_type": "markdown",
   "id": "8eb34ba5",
   "metadata": {},
   "source": [
    "### 26. Combine 2 lists into a list of tuples with the `zip` function."
   ]
  },
  {
   "cell_type": "code",
   "execution_count": 14,
   "id": "2dd830b2",
   "metadata": {},
   "outputs": [],
   "source": [
    "alphabet = ['a', 'b', 'c']\n",
    "integers = [1, 2, 3]\n",
    "\n",
    "# Output: [('a', 1), ('b', 2), ('c', 3)]"
   ]
  },
  {
   "cell_type": "markdown",
   "id": "6ea5f4e8",
   "metadata": {},
   "source": [
    "### 27. Insert a value at a specific index in an existing list"
   ]
  },
  {
   "cell_type": "code",
   "execution_count": 15,
   "id": "be780761",
   "metadata": {},
   "outputs": [],
   "source": [
    "li = ['a','b','c','d','e']\n",
    "\n",
    "# Output: ['a', 'b', 'HERE', 'c', 'd', 'e']"
   ]
  },
  {
   "cell_type": "markdown",
   "id": "87c69ec9",
   "metadata": {},
   "source": [
    "### 28. Subtract values in a list from the first element with the `reduce` function."
   ]
  },
  {
   "cell_type": "code",
   "execution_count": 16,
   "id": "816f0a46",
   "metadata": {},
   "outputs": [],
   "source": [
    "numbers = [100,10,5,1,2,7,5]\n",
    "\n",
    "# Output: 70 (100 - 10 - 5 - 1 - ...)"
   ]
  },
  {
   "cell_type": "markdown",
   "id": "23f145cc",
   "metadata": {},
   "source": [
    "### 29. Remove negative values from a list with `filter` function."
   ]
  },
  {
   "cell_type": "code",
   "execution_count": 17,
   "id": "90341f05",
   "metadata": {},
   "outputs": [],
   "source": [
    "a = [-10, 27, 1000, -1, 0, -30]\n",
    "\n",
    "# Output: [27, 1000, 0]"
   ]
  },
  {
   "cell_type": "markdown",
   "id": "88d49a24",
   "metadata": {},
   "source": [
    "### 30. Convert a list into a dictionary where list elements are keys"
   ]
  },
  {
   "cell_type": "code",
   "execution_count": 18,
   "id": "d4016bb2",
   "metadata": {},
   "outputs": [],
   "source": [
    "li = ['The', 'quick', 'brown', 'fox', 'was', 'quick']\n",
    "\n",
    "# Output: {'The': 1, 'quick': 1, 'brown': 1, 'fox': 1, 'was': 1}"
   ]
  },
  {
   "cell_type": "markdown",
   "id": "632ce273",
   "metadata": {},
   "source": [
    "![Image divider](https://picsum.photos/id/1001/600/200)"
   ]
  },
  {
   "cell_type": "markdown",
   "id": "f8ac169e",
   "metadata": {},
   "source": [
    "## Questions 31 - 40"
   ]
  },
  {
   "cell_type": "markdown",
   "id": "7d820ad3",
   "metadata": {},
   "source": [
    "### 31. Modify an existing list with a `lambda` function."
   ]
  },
  {
   "cell_type": "code",
   "execution_count": 19,
   "id": "bb772056",
   "metadata": {},
   "outputs": [],
   "source": [
    "a = [10,20,30,40,50]\n",
    "\n",
    "# Output: [50, 100, 150, 200, 250]"
   ]
  },
  {
   "cell_type": "markdown",
   "id": "9336edc7",
   "metadata": {},
   "source": [
    "### 32. Remove elements in a list after a specific index"
   ]
  },
  {
   "cell_type": "code",
   "execution_count": 20,
   "id": "ece6c375",
   "metadata": {},
   "outputs": [],
   "source": [
    "li = [1,2,3,4,5,6,7,8,9,10,11,12,13,14,15,16,17,18,19,10]\n",
    "\n",
    "# Output: [1, 2, 3, 4, 5, 6, 7, 8, 9, 10]"
   ]
  },
  {
   "cell_type": "markdown",
   "id": "2dab3e10",
   "metadata": {},
   "source": [
    "### 33. Remove elements in a list before a specific index"
   ]
  },
  {
   "cell_type": "code",
   "execution_count": 21,
   "id": "e30add1a",
   "metadata": {},
   "outputs": [],
   "source": [
    "li = [1,2,3,4,5,6,7,8,9,10,11,12,13,14,15,16,17,18,19,10]\n",
    "\n",
    "# Output: [16, 17, 18, 19, 10]"
   ]
  },
  {
   "cell_type": "markdown",
   "id": "5dee6606",
   "metadata": {},
   "source": [
    "### 34. Remove elements in a list between 2 indices"
   ]
  },
  {
   "cell_type": "code",
   "execution_count": 22,
   "id": "dbdfb7a5",
   "metadata": {},
   "outputs": [],
   "source": [
    "li = [1,2,3,4,5,6,7,8,9,10,11,12,13,14,15,16,17,18,19,10]\n",
    "\n",
    "# Output: [13, 14, 15, 16, 17]"
   ]
  },
  {
   "cell_type": "markdown",
   "id": "1547dc65",
   "metadata": {},
   "source": [
    "### 35. Return every 2nd element in a list between 2 indices"
   ]
  },
  {
   "cell_type": "code",
   "execution_count": 23,
   "id": "6887fe86",
   "metadata": {},
   "outputs": [],
   "source": [
    "li = [1,2,3,4,5,6,7,8,9,10,11,12,13,14,15,16,17,18,19,10]\n",
    "\n",
    "# Output: [11, 13, 15]"
   ]
  },
  {
   "cell_type": "markdown",
   "id": "8a0a8de7",
   "metadata": {},
   "source": [
    "### 36. Sort a list of integers in ascending order in place"
   ]
  },
  {
   "cell_type": "code",
   "execution_count": 24,
   "id": "9213d2a7",
   "metadata": {},
   "outputs": [],
   "source": [
    "li = [10,1,9,2,8,3,7,4,6,5]\n",
    "\n",
    "# Output: li => [1, 2, 3, 4, 5, 6, 7, 8, 9, 10]"
   ]
  },
  {
   "cell_type": "markdown",
   "id": "4a66116e",
   "metadata": {},
   "source": [
    "### 37. Sort a list of integers in descending order in place"
   ]
  },
  {
   "cell_type": "code",
   "execution_count": 25,
   "id": "72a7ea0e",
   "metadata": {},
   "outputs": [],
   "source": [
    "li = [10,1,9,2,8,3,7,4,6,5]\n",
    "\n",
    "# Output: li => [10, 9, 8, 7, 6, 5, 4, 3, 2, 1]"
   ]
  },
  {
   "cell_type": "markdown",
   "id": "348994c2",
   "metadata": {},
   "source": [
    "### 38. Filter even values out of a list with list comprehension"
   ]
  },
  {
   "cell_type": "code",
   "execution_count": 26,
   "id": "49fece61",
   "metadata": {},
   "outputs": [],
   "source": [
    "li = [1,2,3,4,5,6,7,8,9,10]\n",
    "\n",
    "# Output: [1, 3, 5, 7, 9]"
   ]
  },
  {
   "cell_type": "markdown",
   "id": "7e21ac71",
   "metadata": {},
   "source": [
    "### 39. Count occurrences of each value in a list using `Counter` class"
   ]
  },
  {
   "cell_type": "code",
   "execution_count": 27,
   "id": "11c1fabb",
   "metadata": {},
   "outputs": [],
   "source": [
    "li = ['blue', 'pink', 'green', 'green', 'yellow', 'pink', 'orange']\n",
    "\n",
    "# Output: {'blue': 1, 'pink': 2, 'green': 2, 'yellow': 1, 'orange': 1}"
   ]
  },
  {
   "cell_type": "markdown",
   "id": "901488e3",
   "metadata": {},
   "source": [
    "### 40. Get the first element from each nested list in a list"
   ]
  },
  {
   "cell_type": "code",
   "execution_count": 28,
   "id": "e1c47e03",
   "metadata": {},
   "outputs": [],
   "source": [
    "li = [[1,2,3],[4,5,6],[7,8,9],[10,11,12],[13,14,15]]\n",
    "\n",
    "# Output: [1, 4, 7, 10, 13]"
   ]
  },
  {
   "cell_type": "markdown",
   "id": "6e4d8754",
   "metadata": {},
   "source": [
    "![Image divider](https://picsum.photos/id/1002/600/200)"
   ]
  },
  {
   "cell_type": "markdown",
   "id": "380e5e7e",
   "metadata": {},
   "source": [
    "## Questions 41 - 50"
   ]
  },
  {
   "cell_type": "markdown",
   "id": "5e9ebbb9",
   "metadata": {},
   "source": [
    "### 41. What is the time complexity of `insert`, `find` and `delete` for a list?"
   ]
  },
  {
   "cell_type": "markdown",
   "id": "0b68ed25",
   "metadata": {},
   "source": [
    "### 42. Combine elements in a list into a single string."
   ]
  },
  {
   "cell_type": "code",
   "execution_count": 29,
   "id": "a1f22fc4",
   "metadata": {},
   "outputs": [],
   "source": [
    "li = ['The','quick','brown', 'fox', 'jumped', 'over', 'the', 'lazy', 'dog']\n",
    "\n",
    "# Output: 'The quick brown fox jumped over the lazy dog'"
   ]
  },
  {
   "cell_type": "markdown",
   "id": "c3658537",
   "metadata": {},
   "source": [
    "### 43. What's the affect of multiplying a list by an integer?"
   ]
  },
  {
   "cell_type": "code",
   "execution_count": 30,
   "id": "31d621c8",
   "metadata": {},
   "outputs": [],
   "source": [
    "# ['a','b'] * 5"
   ]
  },
  {
   "cell_type": "markdown",
   "id": "1b6f8883",
   "metadata": {},
   "source": [
    "### 44. Use `any` function to return True if any value is divisible by 2"
   ]
  },
  {
   "cell_type": "code",
   "execution_count": 31,
   "id": "6343cbdc",
   "metadata": {},
   "outputs": [],
   "source": [
    "li1 = [1,2,3]\n",
    "li2 = [1,3]\n",
    "\n",
    "# Output: li1 has value divisible by 2 => True\n",
    "#         li2 has value divisible by 2 => False"
   ]
  },
  {
   "cell_type": "markdown",
   "id": "f482a99c",
   "metadata": {},
   "source": [
    "### 45. Use `all` function to return True if all values in a list are negative"
   ]
  },
  {
   "cell_type": "code",
   "execution_count": 32,
   "id": "e3facb69",
   "metadata": {},
   "outputs": [],
   "source": [
    "li1 = [2,3,-4]\n",
    "li2 = [-2,-4]\n",
    "\n",
    "# Output: li1 has all -ve values => False\n",
    "#         li2 has all -ve values => True"
   ]
  },
  {
   "cell_type": "markdown",
   "id": "37602def",
   "metadata": {},
   "source": [
    "### 46. Can you a sort a list with `None` in it?"
   ]
  },
  {
   "cell_type": "markdown",
   "id": "ec33c15e",
   "metadata": {},
   "source": [
    "### 47. What kind of copy would the list constructor create from an existing list?"
   ]
  },
  {
   "cell_type": "markdown",
   "id": "33705b9e",
   "metadata": {},
   "source": [
    "### 48. Reverse the order of a list"
   ]
  },
  {
   "cell_type": "code",
   "execution_count": 33,
   "id": "16b0943d",
   "metadata": {},
   "outputs": [],
   "source": [
    "li = [1,2,3,4,5,6,7,8,9,10]\n",
    "\n",
    "# Output: [10, 9, 8, 7, 6, 5, 4, 3, 2, 1]"
   ]
  },
  {
   "cell_type": "markdown",
   "id": "5d4c265a",
   "metadata": {},
   "source": [
    "### 49. What is the difference between `reverse` and `reversed`?"
   ]
  },
  {
   "cell_type": "markdown",
   "id": "22b7f2fc",
   "metadata": {},
   "source": [
    "### 50. What is the difference between `sort` and `sorted`?"
   ]
  },
  {
   "cell_type": "markdown",
   "id": "d7fca540",
   "metadata": {},
   "source": [
    "![Image divider](https://picsum.photos/id/1010/600/200)"
   ]
  },
  {
   "cell_type": "markdown",
   "id": "919df12a",
   "metadata": {},
   "source": [
    "## Questions 51 - 60"
   ]
  },
  {
   "cell_type": "markdown",
   "id": "7617ae43",
   "metadata": {},
   "source": [
    "### 51. Return the minimum value in a list"
   ]
  },
  {
   "cell_type": "code",
   "execution_count": 34,
   "id": "b92471b5",
   "metadata": {},
   "outputs": [],
   "source": [
    "li = [10,1,9,2,8,3,7,4,6,5]\n",
    "\n",
    "# Output: 1"
   ]
  },
  {
   "cell_type": "markdown",
   "id": "79b78704",
   "metadata": {},
   "source": [
    "### 52. Return the maximum value in a list"
   ]
  },
  {
   "cell_type": "code",
   "execution_count": 35,
   "id": "8928311b",
   "metadata": {},
   "outputs": [],
   "source": [
    "li = [10,1,9,2,8,3,7,4,6,5]\n",
    "\n",
    "# Output: 10"
   ]
  },
  {
   "cell_type": "markdown",
   "id": "fe53331a",
   "metadata": {},
   "source": [
    "### 53. Return the sum of values in a list"
   ]
  },
  {
   "cell_type": "code",
   "execution_count": 36,
   "id": "3dd0a77f",
   "metadata": {},
   "outputs": [],
   "source": [
    "li = [10,1,9,2,8,3,7,4,6,5]\n",
    "\n",
    "# Output: 55"
   ]
  },
  {
   "cell_type": "markdown",
   "id": "4904ee3e",
   "metadata": {},
   "source": [
    "### 54. Use a list as a stack"
   ]
  },
  {
   "cell_type": "markdown",
   "id": "8262a4d1",
   "metadata": {},
   "source": [
    "### 55. Find the intersection of 2 lists"
   ]
  },
  {
   "cell_type": "code",
   "execution_count": 37,
   "id": "13038d89",
   "metadata": {},
   "outputs": [],
   "source": [
    "li1 = [1,2,3]\n",
    "li2 = [2,3,4]\n",
    "\n",
    "# Output: {2, 3}"
   ]
  },
  {
   "cell_type": "markdown",
   "id": "acd3ae82",
   "metadata": {},
   "source": [
    "### 56. Find the difference between set and another set"
   ]
  },
  {
   "cell_type": "code",
   "execution_count": 38,
   "id": "30a856eb",
   "metadata": {},
   "outputs": [],
   "source": [
    "li1 = [1,2,3]\n",
    "li2 = [2,3,4]\n",
    "\n",
    "# Output: li1 - li2: {1}\n",
    "#         li2 - li1: {4}"
   ]
  },
  {
   "cell_type": "markdown",
   "id": "1529a44d",
   "metadata": {},
   "source": [
    "### 57. Flatten a list of lists with a list comprehension"
   ]
  },
  {
   "cell_type": "code",
   "execution_count": 39,
   "id": "821b1dcc",
   "metadata": {},
   "outputs": [],
   "source": [
    "li = [[1,2,3],[4,5,6]]\n",
    "\n",
    "# Output: [1, 2, 3, 4, 5, 6]"
   ]
  },
  {
   "cell_type": "markdown",
   "id": "66bab08b",
   "metadata": {},
   "source": [
    "### 58. Generate a list of every integer between 2 values"
   ]
  },
  {
   "cell_type": "code",
   "execution_count": 40,
   "id": "f87222ce",
   "metadata": {},
   "outputs": [],
   "source": [
    "# Generate list between 5 and 10 (exclusive)\n",
    "# Output: [5, 6, 7, 8, 9]"
   ]
  },
  {
   "cell_type": "markdown",
   "id": "12bec672",
   "metadata": {},
   "source": [
    "### 59. Combine 2 lists into a dictionary"
   ]
  },
  {
   "cell_type": "code",
   "execution_count": 41,
   "id": "da7f19af",
   "metadata": {},
   "outputs": [],
   "source": [
    "name = ['Snowball', 'Chewy', 'Bubbles', 'Gruff']\n",
    "animal = ['Cat', 'Dog', 'Fish', 'Goat']\n",
    "\n",
    "# Output: {'Snowball': 'Cat', 'Chewy': 'Dog', 'Bubbles': 'Fish', 'Gruff': 'Goat'}"
   ]
  },
  {
   "cell_type": "markdown",
   "id": "d7bfa6df",
   "metadata": {},
   "source": [
    "### 60. Reverse the order of a list using slice syntax"
   ]
  },
  {
   "cell_type": "code",
   "execution_count": 42,
   "id": "59c76167",
   "metadata": {},
   "outputs": [],
   "source": [
    "li = ['a','b',3,4]\n",
    "\n",
    "#=> [4, 3, 'b', 'a']"
   ]
  },
  {
   "cell_type": "markdown",
   "id": "8bd40310",
   "metadata": {},
   "source": [
    "## References"
   ]
  },
  {
   "cell_type": "markdown",
   "id": "a071f435",
   "metadata": {},
   "source": [
    "_[Refence: Towards Data Science blog by Chris I.](https://towardsdatascience.com/60-questions-to-test-your-knowledge-of-python-lists-cca0ebfa0582#:~:text=%2060%20Questions%20to%20Test%20Your%20Knowledge%20of,associated%20with%20the%20same%20identifier%20in...%20More%20)_"
   ]
  }
 ],
 "metadata": {
  "kernelspec": {
   "display_name": "Python 3",
   "language": "python",
   "name": "python3"
  },
  "language_info": {
   "codemirror_mode": {
    "name": "ipython",
    "version": 3
   },
   "file_extension": ".py",
   "mimetype": "text/x-python",
   "name": "python",
   "nbconvert_exporter": "python",
   "pygments_lexer": "ipython3",
   "version": "3.9.4"
  }
 },
 "nbformat": 4,
 "nbformat_minor": 5
}
